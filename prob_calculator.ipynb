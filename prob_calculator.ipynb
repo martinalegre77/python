{
  "nbformat": 4,
  "nbformat_minor": 0,
  "metadata": {
    "colab": {
      "provenance": [],
      "authorship_tag": "ABX9TyNo5MN8by1Z/oqHU7hmdtsf",
      "include_colab_link": true
    },
    "kernelspec": {
      "name": "python3",
      "display_name": "Python 3"
    },
    "language_info": {
      "name": "python"
    }
  },
  "cells": [
    {
      "cell_type": "markdown",
      "metadata": {
        "id": "view-in-github",
        "colab_type": "text"
      },
      "source": [
        "<a href=\"https://colab.research.google.com/github/martinalegre77/python/blob/main/prob_calculator.ipynb\" target=\"_parent\"><img src=\"https://colab.research.google.com/assets/colab-badge.svg\" alt=\"Open In Colab\"/></a>"
      ]
    },
    {
      "cell_type": "markdown",
      "source": [
        "# test_module"
      ],
      "metadata": {
        "id": "Y1AA-KfBJp9t"
      }
    },
    {
      "cell_type": "code",
      "execution_count": 43,
      "metadata": {
        "id": "sI5bmIAG96MR"
      },
      "outputs": [],
      "source": [
        "import unittest\n",
        "# import prob_calculator\n",
        "\n",
        "random.seed(95)\n",
        "class UnitTests(unittest.TestCase):\n",
        "    maxDiff = None\n",
        "    def test_hat_class_contents(self):\n",
        "        hat = Hat(red=3,blue=2)\n",
        "        actual = hat.contents\n",
        "        expected = [\"red\",\"red\",\"red\",\"blue\",\"blue\"]\n",
        "        self.assertEqual(actual, expected, 'Expected creation of hat object to add correct contents.')\n",
        "\n",
        "    def test_hat_draw(self):\n",
        "        hat = Hat(red=5,blue=2)\n",
        "        actual = hat.draw(2)\n",
        "        expected = ['blue', 'red']\n",
        "        self.assertEqual(actual, expected, 'Expected hat draw to return two random items from hat contents.')\n",
        "        actual = len(hat.contents)\n",
        "        expected = 5\n",
        "        self.assertEqual(actual, expected, 'Expected hat draw to reduce number of items in contents.')\n",
        "\n",
        "    def test_prob_experiment(self):\n",
        "        hat = Hat(blue=3,red=2,green=6)\n",
        "        probability = experiment(hat=hat, expected_balls={\"blue\":2,\"green\":1}, num_balls_drawn=4, num_experiments=1000)\n",
        "        actual = probability\n",
        "        expected = 0.272\n",
        "        self.assertAlmostEqual(actual, expected, delta = 0.01, msg = 'Expected experiment method to return a different probability.')\n",
        "        hat = Hat(yellow=5,red=1,green=3,blue=9,test=1)\n",
        "        probability = experiment(hat=hat, expected_balls={\"yellow\":2,\"blue\":3,\"test\":1}, num_balls_drawn=20, num_experiments=100)\n",
        "        actual = probability\n",
        "        expected = 1.0\n",
        "        self.assertAlmostEqual(actual, expected, delta = 0.01, msg = 'Expected experiment method to return a different probability.')\n",
        "\n",
        "\n",
        "# if __name__ == \"__main__\":\n",
        "#     unittest.main()\n"
      ]
    },
    {
      "cell_type": "markdown",
      "source": [
        "# prob_calculator.py"
      ],
      "metadata": {
        "id": "ojYtjd5sJ0Vq"
      }
    },
    {
      "cell_type": "code",
      "source": [
        "import copy\n",
        "import random\n",
        "# Consider using the modules imported above.\n",
        "\n",
        "class Hat:\n",
        "  def __init__(self, **kwargs):\n",
        "    self.contents = []\n",
        "    for color in kwargs:\n",
        "      for _ in range(kwargs[color]):\n",
        "        self.contents.append(color)\n",
        "\n",
        "  def draw(self, num):\n",
        "    my_hat = self.contents.copy()\n",
        "    sacar = []\n",
        "    indice = len(my_hat)\n",
        "    # Si el número de bolas a extraer supera la cantidad disponible,\n",
        "    # devuelve todas las bolas.\n",
        "    if num > indice:\n",
        "      return my_hat\n",
        "    # Eliminar bolas al azar\n",
        "    for _ in range(num):\n",
        "      bola = random.choice(my_hat)\n",
        "      # print(indice, \"bola =\", bola)\n",
        "      sacar.append(bola)\n",
        "      my_hat.remove(bola)\n",
        "      indice -= 1\n",
        "    # Devolver las bolas sacadas como una lista de str\n",
        "    return sacar\n",
        "\n",
        "def experiment(hat, expected_balls, num_balls_drawn, num_experiments):\n",
        "  # Convierto en lista a \"expected_balls\"\n",
        "  exp_hat = []\n",
        "  for clave, valor in expected_balls.items():\n",
        "    for i in range(valor):\n",
        "      exp_hat.append(clave)\n",
        "  # Declaro variables\n",
        "  n = num_experiments # cantidad de pruebas\n",
        "  m = 0 # pruebas satisfactorias\n",
        "  for _ in range(n):\n",
        "    balls = hat.draw(num_balls_drawn)\n",
        "    sacada = 0\n",
        "    for i in range(len(exp_hat)):\n",
        "      try:\n",
        "        balls.remove(exp_hat[i])\n",
        "        sacada +=1\n",
        "      except ValueError:\n",
        "        break\n",
        "    if sacada == len(exp_hat):\n",
        "      m +=1\n",
        "  return m/n\n"
      ],
      "metadata": {
        "id": "woWSIORdJgvK"
      },
      "execution_count": 58,
      "outputs": []
    },
    {
      "cell_type": "markdown",
      "source": [
        "# main.py"
      ],
      "metadata": {
        "id": "J9mFOPkiJxDC"
      }
    },
    {
      "cell_type": "code",
      "source": [
        "# This entrypoint file to be used in development. Start by reading README.md\n",
        "# import prob_calculator\n",
        "from unittest import main\n",
        "\n",
        "random.seed(95)\n",
        "hat = Hat(blue=4, red=2, green=6)\n",
        "probability = experiment(\n",
        "    hat=hat,\n",
        "    expected_balls={\"blue\": 2,\n",
        "                    \"red\": 1},\n",
        "    num_balls_drawn=5,\n",
        "    num_experiments=2000)\n",
        "print(\"Probability:\", probability)\n",
        "\n",
        "# Run unit tests automatically\n",
        "# main(module='test_module', exit=False)"
      ],
      "metadata": {
        "id": "jK1zCZWwJlnq",
        "colab": {
          "base_uri": "https://localhost:8080/"
        },
        "outputId": "c41a7566-660c-43e9-c7c6-d560ca9cfdad"
      },
      "execution_count": 61,
      "outputs": [
        {
          "output_type": "stream",
          "name": "stdout",
          "text": [
            "Probability: 0.3275\n"
          ]
        }
      ]
    }
  ]
}