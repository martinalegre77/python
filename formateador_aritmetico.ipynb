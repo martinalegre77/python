{
  "nbformat": 4,
  "nbformat_minor": 0,
  "metadata": {
    "colab": {
      "provenance": [],
      "authorship_tag": "ABX9TyOp7aH0tTglbkIB5990R4ic",
      "include_colab_link": true
    },
    "kernelspec": {
      "name": "python3",
      "display_name": "Python 3"
    },
    "language_info": {
      "name": "python"
    }
  },
  "cells": [
    {
      "cell_type": "markdown",
      "metadata": {
        "id": "view-in-github",
        "colab_type": "text"
      },
      "source": [
        "<a href=\"https://colab.research.google.com/github/martinalegre77/python/blob/main/formateador_aritmetico.ipynb\" target=\"_parent\"><img src=\"https://colab.research.google.com/assets/colab-badge.svg\" alt=\"Open In Colab\"/></a>"
      ]
    },
    {
      "cell_type": "code",
      "execution_count": 32,
      "metadata": {
        "colab": {
          "base_uri": "https://localhost:8080/"
        },
        "id": "OABHxSjAQLLG",
        "outputId": "39cdb3c3-dc94-4929-9972-9b53ae66c109"
      },
      "outputs": [
        {
          "output_type": "stream",
          "name": "stdout",
          "text": [
            "   32      3801      45      123    \n",
            "+ 698    -    2    + 43    +  49    \n",
            "-----    ------    ----    -----    \n",
            "  730      3799      88      172    \n",
            "\n"
          ]
        }
      ],
      "source": [
        "def arithmetic_arranger(problems, res=False):\n",
        "  # limite de 5 problemas\n",
        "  if len(problems) > 5:\n",
        "    return 'Error: Too many problems'\n",
        "  # defino los renglones\n",
        "  linea1 = ''\n",
        "  linea2 = ''\n",
        "  linea3 = ''\n",
        "  linea4 = ''\n",
        "  resultado = 0\n",
        "  # comprobar operadores y operandos\n",
        "  for i in range(len(problems)):\n",
        "    arr = problems[i].split()\n",
        "    # compruebo los operandos\n",
        "    if arr[0].isdecimal() and arr[2].isdecimal():\n",
        "      if len(arr[0]) < 5 and len(arr[2]) < 5 :\n",
        "        # compruebo operadores\n",
        "        if '*' in arr or '/' in arr:\n",
        "          return \"Error: Operator must be '+' or '-'\"\n",
        "        else:\n",
        "          if ('+' not in arr) and ('-' not in arr):\n",
        "            return 'Error: Operator not valid'\n",
        "      else:\n",
        "        return 'Error: Numbers cannot be more than four digits'\n",
        "    else:\n",
        "      return 'Error: Numbers must only contain digits'\n",
        "    # Si el formato es correcto continua\n",
        "    # calculo el resultado\n",
        "    if '+' in arr:\n",
        "      resultado = int(arr[0]) + int(arr[2])\n",
        "    else:\n",
        "      resultado = int(arr[0]) - int(arr[2])\n",
        "    #completo las lineas\n",
        "    if len(arr[0]) > len(arr[2]):\n",
        "      linea1 = linea1 + ('  ' + arr[0])\n",
        "      linea2 = linea2 + (arr[1] + ' ' + (' ' * (len(arr[0]) - len(arr[2]))) + arr[2])\n",
        "      linea3 = linea3 + ('--' + ('-' * len(arr[0])))\n",
        "      if len(str(resultado)) > len(arr[0]):\n",
        "        linea4 = linea4 + (' ' + str(resultado))\n",
        "      else:\n",
        "        linea4 = linea4 + ('  ' + str(resultado))\n",
        "    else:\n",
        "      linea1 = linea1 + ('  ' + (' ' * (len(arr[2]) - len(arr[0]))) + arr[0])\n",
        "      linea2 = linea2 + (arr[1] + ' ' + arr[2])\n",
        "      linea3 = linea3 + ('--' + ('-' * len(arr[2])))\n",
        "      if len(str(resultado)) > len(arr[2]):\n",
        "        linea4 = linea4 + (' ' + str(resultado))\n",
        "      else:\n",
        "        linea4 = linea4 + ('  ' + str(resultado))\n",
        "    # agrego espacios para separar las cuentas\n",
        "    linea1 += '    '\n",
        "    linea2 += '    '\n",
        "    linea3 += '    '\n",
        "    linea4 += '    '\n",
        "  # preparo paras mostrar\n",
        "  if res:\n",
        "    arranged_problems = linea1 + '\\n' + linea2 + '\\n' + linea3 + '\\n' + linea4 + '\\n'\n",
        "  else:\n",
        "    arranged_problems = linea1 + '\\n' + linea2 + '\\n' + linea3 + '\\n'\n",
        "  # devuelvo para mostrar\n",
        "  return arranged_problems\n",
        "\n",
        "print(arithmetic_arranger([\"32 + 698\", \"3801 - 2\", \"45 + 43\", \"123 + 49\"], True))"
      ]
    }
  ]
}