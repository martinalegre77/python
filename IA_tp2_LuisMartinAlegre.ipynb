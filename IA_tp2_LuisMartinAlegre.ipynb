{
  "nbformat": 4,
  "nbformat_minor": 0,
  "metadata": {
    "colab": {
      "provenance": [],
      "authorship_tag": "ABX9TyNQVsBGRy8W/2SWWVK9VgVC",
      "include_colab_link": true
    },
    "kernelspec": {
      "name": "python3",
      "display_name": "Python 3"
    },
    "language_info": {
      "name": "python"
    }
  },
  "cells": [
    {
      "cell_type": "markdown",
      "metadata": {
        "id": "view-in-github",
        "colab_type": "text"
      },
      "source": [
        "<a href=\"https://colab.research.google.com/github/martinalegre77/python/blob/main/IA_tp2_LuisMartinAlegre.ipynb\" target=\"_parent\"><img src=\"https://colab.research.google.com/assets/colab-badge.svg\" alt=\"Open In Colab\"/></a>"
      ]
    },
    {
      "cell_type": "markdown",
      "source": [
        "# Universidad Siglo 21\n",
        "## Materia: Inteligencia Artificial\n",
        "### Trabajo Práctico Nro 2\n",
        "#### Alumno: Luis Martín Alegre"
      ],
      "metadata": {
        "id": "eORdN3WcOYm9"
      }
    },
    {
      "cell_type": "markdown",
      "source": [
        "## 1. Implementar un proceso de búsqueda exhaustiva."
      ],
      "metadata": {
        "id": "6aALgkGYOxlc"
      }
    },
    {
      "cell_type": "code",
      "source": [
        "def dfs(grafo, inicio, meta):\n",
        "  \"\"\"\n",
        "  La función recibe tres argumentos:\n",
        "  - el grafo\n",
        "  - el nodo inicio (raíz)\n",
        "  - el nodo objetivo (meta)\n",
        "  \"\"\"\n",
        "  pila = [(inicio, [inicio])] # pila de nodos a recorrer\n",
        "  visitados = set()  # nodos visitados\n",
        "\n",
        "  while pila: # mientras la pila no esté vacía\n",
        "    nodo, camino = pila.pop()\n",
        "\n",
        "    if nodo == meta:\n",
        "      # Si el nodo es igual a la meta devuelve el camino\n",
        "      return camino\n",
        "\n",
        "    if nodo not in visitados:\n",
        "      visitados.add(nodo) # si el nodo no está en 'visitados' lo agrega\n",
        "      vecinos = grafo[nodo] # expande el nodo\n",
        "\n",
        "      for vecino in vecinos:\n",
        "        pila.append((vecino, camino + [vecino])) # agrega los vecinos a la pila para recorrerlos\n",
        "\n",
        "      # Si no encuentra la posición 'A' devuelve None\n",
        "  return None"
      ],
      "metadata": {
        "id": "9fj5RpDLOz1s"
      },
      "execution_count": null,
      "outputs": []
    },
    {
      "cell_type": "markdown",
      "source": [
        "## Ejemplo con la posición de montaje 'A' del lado izquierdo (-B1, ..., -B6):"
      ],
      "metadata": {
        "id": "HXUTLb_oPrX1"
      }
    },
    {
      "cell_type": "code",
      "source": [
        "grafo = {\n",
        "     'B': ['B-1', 'B+1'],\n",
        "     'B-1': ['B', 'B-2'],\n",
        "     'B+1': ['B', 'B+2'],\n",
        "     'B-2': ['B-3', 'B-1'],\n",
        "     'B+2': ['B+3', 'B+1'],\n",
        "     'B-3': ['B-2', 'B-4'],\n",
        "     'B+3': ['B+2', 'B+4'],\n",
        "     'B-4': ['B-5', 'B-3'],\n",
        "     'B+4': ['B+5', 'B+3'],\n",
        "     'B-5': ['B-6', 'B-4'],\n",
        "     'B+5': ['B+6', 'B+4'],\n",
        "     'B-6': ['B-5', 'A'], # 'A' después del nodo 'B-6' (lado izquierdo)\n",
        "     'B+6': ['B+5'],\n",
        "     'A': ['B-6'] # 'A' apunta a 'B-6'\n",
        " }\n",
        "\n",
        "nodo_inicio = 'B'\n",
        "nodo_meta = 'A'\n",
        "\n",
        "resultado = dfs(grafo, nodo_inicio, nodo_meta)\n",
        "\n",
        "if resultado:\n",
        "    print(f\"Se encontró un camino de {nodo_inicio} a {nodo_meta}: {resultado}\")\n",
        "else:\n",
        "    print(f\"No se encontró un camino de {nodo_inicio} a {nodo_meta}.\")"
      ],
      "metadata": {
        "colab": {
          "base_uri": "https://localhost:8080/"
        },
        "id": "QI7KrSi2QCWB",
        "outputId": "fd8cb118-83ea-4e95-945d-21b6b0a1b2eb"
      },
      "execution_count": null,
      "outputs": [
        {
          "output_type": "stream",
          "name": "stdout",
          "text": [
            "Se encontró un camino de B a A: ['B', 'B-1', 'B-2', 'B-3', 'B-4', 'B-5', 'B-6', 'A']\n"
          ]
        }
      ]
    },
    {
      "cell_type": "markdown",
      "source": [
        "## Ejemplo con la posición de montaje 'A' del lado derecho (+B1, ..., +B6):"
      ],
      "metadata": {
        "id": "-vCVRLRuOpne"
      }
    },
    {
      "cell_type": "code",
      "source": [
        "grafo = {\n",
        "     'B': ['B-1', 'B+1'],\n",
        "     'B-1': ['B', 'B-2'],\n",
        "     'B+1': ['B', 'B+2'],\n",
        "     'B-2': ['B-3', 'B-1'],\n",
        "     'B+2': ['B+3', 'B+1'],\n",
        "     'B-3': ['B-2', 'B-4'],\n",
        "     'B+3': ['B+2', 'B+4'],\n",
        "     'B-4': ['B-5', 'B-3'],\n",
        "     'B+4': ['B+5', 'B+3'],\n",
        "     'B-5': ['B-6', 'B-4'],\n",
        "     'B+5': ['B+6', 'B+4'],\n",
        "     'B-6': ['B-5'],\n",
        "     'B+6': ['B+5', 'A'], # 'A' después del nodo 'B+6' (lado derecho)\n",
        "     'A': ['B+6'] # 'A' apunta a 'B+6'\n",
        " }\n",
        "\n",
        "nodo_inicio = 'B'\n",
        "nodo_meta = 'A'\n",
        "\n",
        "resultado = dfs(grafo, nodo_inicio, nodo_meta)\n",
        "\n",
        "if resultado:\n",
        "    print(f\"Se encontró un camino de {nodo_inicio} a {nodo_meta}: {resultado}\")\n",
        "else:\n",
        "    print(f\"No se encontró un camino de {nodo_inicio} a {nodo_meta}.\")"
      ],
      "metadata": {
        "colab": {
          "base_uri": "https://localhost:8080/"
        },
        "id": "UHhR4W5sQF-r",
        "outputId": "73f32154-a379-4711-ff47-3edbdaf52c73"
      },
      "execution_count": null,
      "outputs": [
        {
          "output_type": "stream",
          "name": "stdout",
          "text": [
            "Se encontró un camino de B a A: ['B', 'B+1', 'B+2', 'B+3', 'B+4', 'B+5', 'B+6', 'A']\n"
          ]
        }
      ]
    },
    {
      "cell_type": "markdown",
      "source": [
        "## 2. Implementar un proceso de búsqueda heurística."
      ],
      "metadata": {
        "id": "qmS9voVYW5c8"
      }
    },
    {
      "cell_type": "code",
      "source": [
        "class Nodo:\n",
        "  \"\"\" Clase define los nodos(estados) del problema\"\"\"\n",
        "  def __init__(self, nombre, h = 0):\n",
        "    \"\"\"Método que inicializa un nodo con sus atributos\n",
        "\t\tnombre = identificador del nodo(estado)\n",
        "\t\theurística (h) = valor definido de la heurística del nodo\n",
        "\t\tvecinos = lista de los nodos con los que está conectado\n",
        "\t\tvisitado = flag para saber si fue visitado o no\n",
        "\t\tpadre = nodo padre\n",
        "\t\tcosto = valor que tiene recorrerlo\n",
        "\t\tcostoF = de f(n) = g(n) + h(n)\"\"\"\n",
        "    self.nombre = nombre\n",
        "    self.heuristica = h\n",
        "    self.vecinos = []\n",
        "    self.visitado = False\n",
        "    self.padre = None\n",
        "    self.costo = float('inf') # costo inicializado en infinito\n",
        "    self.costoF = float('inf') # valor de f(n) inicializado en infinito\n",
        "\n",
        "  def agregarVecino(self, nodo, costo = 0):\n",
        "    \"\"\"Método que agrega los nodos que se encuentren conectados a la lista\n",
        "    de vecinos de un nodo. Antes revisa si aún no se encuentra en la lista\n",
        "    de vecinos\"\"\"\n",
        "    if nodo not in self.vecinos:\n",
        "      self.vecinos.append([nodo, costo])\n",
        "\n",
        "class Grafica:\n",
        "  \"\"\"Clase que define los nodos (estados) de la gráfica\"\"\"\n",
        "  def __init__(self):\n",
        "    \"\"\"nodos = diccionario con los nodos de la grafica\"\"\"\n",
        "    self.nodos = {}\n",
        "\n",
        "  def agregarNodo(self, nombre, h = 0):\n",
        "    \"\"\"Método que agrega los nodos, recibiendo el nombre y la heuristica,\n",
        "    revisando antes si no existe en el diccionario de nodos\"\"\"\n",
        "    if nombre not in self.nodos:\n",
        "      self.nodos[nombre] = Nodo(nombre, h)\n",
        "\n",
        "  def unirNodo(self, a, b, costo = 0):\n",
        "    \"\"\"Método que une a los nodos, recibiendo el nombre de los mismos (a, b) y\n",
        "    revisando si existen en la lista de nodos, además recibe el 'costo' del\n",
        "    cambio de nodo, que se asigna a ambos por medio del método agregar vecino\"\"\"\n",
        "    if a in self.nodos and b in self.nodos:\n",
        "      self.nodos[a].agregarVecino(b, costo)\n",
        "      self.nodos[b].agregarVecino(a, costo)\n",
        "\n",
        "  def imprimirGrafica(self):\n",
        "    \"\"\"Método que imprime el gráfo completo con todos los valores\n",
        "    (costo y heurística)\"\"\"\n",
        "    for nodo in self.nodos:\n",
        "      print(f\"El costo del nodo {str(self.nodos[nodo].nombre)} con heurística {str(self.nodos[nodo].heuristica)} es {str(self.nodos[nodo].costo)} llegando desde {str(self.nodos[nodo].padre)}.\")\n",
        "\n",
        "  def camino(self, a, b):\n",
        "    \"\"\"Método que va guardando en la lista 'camino' los nodos en el orden que\n",
        "    son visitados y actualizandola con los nodos con el menor costo\"\"\"\n",
        "    camino = []\n",
        "    actual = b\n",
        "    while actual != None:\n",
        "      camino.insert(0, actual)\n",
        "      actual = self.nodos[actual].padre\n",
        "    return camino\n",
        "\n",
        "  def minimoH(self, lista):\n",
        "    \"\"\"Método que recibe la lista de los nodos no visitados, revisa si su\n",
        "    longitud es mayor a cero (indica que aún hay nodos sin visitar), y\n",
        "    realiza comparaciones de los costos de cada nodo para encontrar el de\n",
        "    menor costo\"\"\"\n",
        "    if len(lista) > 0:\n",
        "      m = self.nodos[lista[0]].costoF\n",
        "      nodo = lista[0]\n",
        "      for e in lista:\n",
        "        if m > self.nodos[e].costoF:\n",
        "          m = self.nodos[e].costoF\n",
        "          nodo = e\n",
        "      return nodo\n",
        "    return nodo\n",
        "\n",
        "  def aEstrella(self, a, b):\n",
        "    \"\"\"Método con el algoritmo de búsqueda A*\"\"\"\n",
        "    if a in self.nodos and b in self.nodos:\n",
        "      self.nodos[a].costo = 0\n",
        "      self.nodos[a].costoF = self.nodos[a].heuristica\n",
        "\n",
        "      for nodo in self.nodos:\n",
        "        if nodo != a:\n",
        "          self.nodos[nodo].costo = float('inf')\n",
        "          self.nodos[nodo].costoF = float('inf')\n",
        "        self.nodos[nodo].padre = None\n",
        "\n",
        "      abierto = [a]\n",
        "\n",
        "      while len(abierto) > 0:\n",
        "        actual = self.minimoH(abierto)\n",
        "\n",
        "        if actual == b:\n",
        "          return [self.camino(a, b), self.nodos[b].costo]\n",
        "\n",
        "        abierto.remove(actual)\n",
        "        self.nodos[actual].visitado = True\n",
        "\n",
        "        for v in self.nodos[actual].vecinos:\n",
        "          if self.nodos[v[0]].visitado == False:\n",
        "            if self.nodos[v[0]].nombre not in abierto:\n",
        "              abierto.append(v[0])\n",
        "            if self.nodos[actual].costo + v[1] < self.nodos[v[0]].costo:\n",
        "              self.nodos[v[0]].padre = actual\n",
        "              self.nodos[v[0]].costo = self.nodos[actual].costo + v[1]\n",
        "              self.nodosostoF = self.nodos[v[0]].costo + self.nodos[v[0]].heuristica\n",
        "      return False\n",
        "    else:\n",
        "      return False"
      ],
      "metadata": {
        "id": "I5h9pLi5GfE6"
      },
      "execution_count": 44,
      "outputs": []
    },
    {
      "cell_type": "code",
      "source": [
        "class main:\n",
        "  \"\"\"Clase para crear el grafo\"\"\"\n",
        "\t# Grafo\n",
        "  block = Grafica()\n",
        "  block.agregarNodo('B', 7)\n",
        "  block.agregarNodo('B-1', 6)\n",
        "  block.agregarNodo('B-2', 5)\n",
        "  block.agregarNodo('B-3', 4)\n",
        "  block.agregarNodo('B-4', 3)\n",
        "  block.agregarNodo('B-5', 2)\n",
        "  block.agregarNodo('B-6', 1)\n",
        "  block.agregarNodo('A', 0)\n",
        "  block.agregarNodo('B+1', 8)\n",
        "  block.agregarNodo('B+2', 9)\n",
        "  block.agregarNodo('B+3', 10)\n",
        "  block.agregarNodo('B+4', 11)\n",
        "  block.agregarNodo('B+5', 12)\n",
        "  block.agregarNodo('B+6', 13)\n",
        "  block.unirNodo('B', 'B-1', 1)\n",
        "  block.unirNodo('B', 'B+1', 1)\n",
        "  block.unirNodo('B-1', 'B-2', 1)\n",
        "  block.unirNodo('B-2', 'B-3', 1)\n",
        "  block.unirNodo('B-3', 'B-4', 1)\n",
        "  block.unirNodo('B-4', 'B-5', 1)\n",
        "  block.unirNodo('B-5', 'B-6', 1)\n",
        "  block.unirNodo('B-6', 'A', 1)\n",
        "  block.unirNodo('B+1', 'B+2', 1)\n",
        "  block.unirNodo('B+2', 'B+3', 1)\n",
        "  block.unirNodo('B+3', 'B+4', 1)\n",
        "  block.unirNodo('B+4', 'B+5', 1)\n",
        "  block.unirNodo('B+5', 'B+6', 1)\n",
        "  print(\"\\nLa movimiento de menor costo para ir de la posición 'B' a la 'A' es:\")\n",
        "  print(block.aEstrella('B', 'A'))\n",
        "  print(\"\\nLos valores de la gráfica son los siguientes:\")\n",
        "  block.imprimirGrafica()"
      ],
      "metadata": {
        "colab": {
          "base_uri": "https://localhost:8080/"
        },
        "id": "T5XgGHfhM3ac",
        "outputId": "88d35f70-c691-4800-81db-77379ac259a8"
      },
      "execution_count": 47,
      "outputs": [
        {
          "output_type": "stream",
          "name": "stdout",
          "text": [
            "\n",
            "La movimiento de menor costo para ir de la posición 'B' a la 'A' es:\n",
            "[['B', 'B-1', 'B-2', 'B-3', 'B-4', 'B-5', 'B-6', 'A'], 7]\n",
            "\n",
            "Los valores de la gráfica son los siguientes:\n",
            "El costo del nodo B con heurística 7 es 0 llegando desde None.\n",
            "El costo del nodo B-1 con heurística 6 es 1 llegando desde B.\n",
            "El costo del nodo B-2 con heurística 5 es 2 llegando desde B-1.\n",
            "El costo del nodo B-3 con heurística 4 es 3 llegando desde B-2.\n",
            "El costo del nodo B-4 con heurística 3 es 4 llegando desde B-3.\n",
            "El costo del nodo B-5 con heurística 2 es 5 llegando desde B-4.\n",
            "El costo del nodo B-6 con heurística 1 es 6 llegando desde B-5.\n",
            "El costo del nodo A con heurística 0 es 7 llegando desde B-6.\n",
            "El costo del nodo B+1 con heurística 8 es 1 llegando desde B.\n",
            "El costo del nodo B+2 con heurística 9 es 2 llegando desde B+1.\n",
            "El costo del nodo B+3 con heurística 10 es 3 llegando desde B+2.\n",
            "El costo del nodo B+4 con heurística 11 es 4 llegando desde B+3.\n",
            "El costo del nodo B+5 con heurística 12 es 5 llegando desde B+4.\n",
            "El costo del nodo B+6 con heurística 13 es 6 llegando desde B+5.\n"
          ]
        }
      ]
    },
    {
      "cell_type": "markdown",
      "source": [
        "# El camino y los valores obtenidos son estimados con la posición 'A' del lado izquierdo."
      ],
      "metadata": {
        "id": "W5qNFHFKpwWJ"
      }
    }
  ]
}