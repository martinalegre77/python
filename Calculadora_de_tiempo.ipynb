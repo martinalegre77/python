{
  "nbformat": 4,
  "nbformat_minor": 0,
  "metadata": {
    "colab": {
      "provenance": [],
      "authorship_tag": "ABX9TyOfbcUC9eEHmyCejbPG5lCS",
      "include_colab_link": true
    },
    "kernelspec": {
      "name": "python3",
      "display_name": "Python 3"
    },
    "language_info": {
      "name": "python"
    }
  },
  "cells": [
    {
      "cell_type": "markdown",
      "metadata": {
        "id": "view-in-github",
        "colab_type": "text"
      },
      "source": [
        "<a href=\"https://colab.research.google.com/github/martinalegre77/python/blob/main/Calculadora_de_tiempo.ipynb\" target=\"_parent\"><img src=\"https://colab.research.google.com/assets/colab-badge.svg\" alt=\"Open In Colab\"/></a>"
      ]
    },
    {
      "cell_type": "code",
      "execution_count": 138,
      "metadata": {
        "id": "k91ib802lyDf"
      },
      "outputs": [],
      "source": [
        "def add_time(start, duration, day=None):\n",
        "  \"\"\"Separo los datos indivudualmente\n",
        "  Variables:\n",
        "  - hora: hora de inicio\n",
        "  - min: minutos de inicio\n",
        "  - franja: am o pm\n",
        "  - d_hora: horas de duración\n",
        "  - d_min: minutos de duración\n",
        "  - days: lista con los días de la semana\"\"\"\n",
        "  hora = int(start.split()[0].split(':')[0])\n",
        "  min = int(start.split()[0].split(':')[1])\n",
        "  franja = start.split()[1].lower()\n",
        "  if franja == 'pm': # hora en formato 24\n",
        "    hora+=12\n",
        "  d_hora = int(duration.split()[0].split(':')[0])\n",
        "  d_min = int(duration.split()[0].split(':')[1])\n",
        "  days = ('sunday', 'monday', 'tuesday', 'wednesday',\n",
        "          'thursday', 'friday', 'saturday', 'sunday',\n",
        "          'monday', 'tuesday', 'wednesday', 'thursday',\n",
        "          'friday', 'saturday')\n",
        "  # Calculos iniciales\n",
        "  minutos = (min + d_min) % 60 # minutos resultado\n",
        "  sum_hora_add = (min + d_min) // 60 # 60 minutos suma 1\n",
        "  hora = hora + d_hora + sum_hora_add # hora resultante\n",
        "  hora_final = hora %  24 # hora resultado\n",
        "  # calculo día\n",
        "  cal_dia = hora // 24\n",
        "  # convertir datos nuevamente en string\n",
        "  # minutos\n",
        "  minutos = str(minutos)\n",
        "  if len(minutos) < 2:\n",
        "    minutos = '0' + minutos\n",
        "  # hora\n",
        "  if hora_final == 0:\n",
        "    hora_final = 12\n",
        "    franja = 'AM'\n",
        "  elif hora_final < 12:\n",
        "    franja = 'AM'\n",
        "  elif hora_final == 12:\n",
        "    franja = 'PM'\n",
        "  else:\n",
        "    franja = 'PM'\n",
        "    hora_final = hora_final - 12\n",
        "  # hora para return\n",
        "  hora_final = str(hora_final) + ':' + minutos\n",
        "  # calculo dia de la semana\n",
        "  dia = ''\n",
        "  if day==None:\n",
        "    dia_semana = ''\n",
        "    if cal_dia < 1:\n",
        "      dia = ''\n",
        "    elif cal_dia < 2:\n",
        "      dia = ' (next day)'\n",
        "    else:\n",
        "      dia = f' ({cal_dia} days later)'\n",
        "  else:\n",
        "    day = day.lower()\n",
        "    if cal_dia < 1:\n",
        "      dia_semana = f', {day.capitalize()}'\n",
        "    elif cal_dia < 2:\n",
        "      dia_semana = f', {days[days.index(day) + 1].capitalize()}'\n",
        "      dia = ' (next day)'\n",
        "    else:\n",
        "      dia_semana = f', {days[days.index(day) + (cal_dia % 7)].capitalize()} '\n",
        "      dia = f'({cal_dia} days later)'\n",
        "\n",
        "  if day==None:\n",
        "    new_time = f'{hora_final} {franja}{dia}'\n",
        "  else:\n",
        "    new_time = f'{hora_final} {franja}{dia_semana}{dia}'\n",
        "\n",
        "  return new_time"
      ]
    },
    {
      "cell_type": "code",
      "source": [
        "print(add_time(\"11:06 PM\", \"2:02\"))\n",
        "\n",
        "print(add_time(\"3:00 PM\", \"3:10\"))\n",
        "# Returns: 6:10 PM\n",
        "print(add_time(\"11:30 AM\", \"2:32\", \"Monday\"))\n",
        "# Returns: 2:02 PM, Monday\n",
        "print(add_time(\"11:43 AM\", \"00:20\"))\n",
        "# Returns: 12:03 PM\n",
        "print(add_time(\"10:10 PM\", \"3:30\"))\n",
        "# Returns: 1:40 AM (next day)\n",
        "print(add_time(\"11:43 PM\", \"24:20\", \"tueSday\"))\n",
        "# Returns: 12:03 AM, Thursday (2 days later)\n",
        "print(add_time(\"6:30 PM\", \"205:12\"))\n",
        "# Returns: 7:42 AM (9 days later)\n",
        "print(add_time(\"8:16 PM\", \"466:02\", \"tuesday\"))"
      ],
      "metadata": {
        "colab": {
          "base_uri": "https://localhost:8080/"
        },
        "id": "1-9QT5YXmeHR",
        "outputId": "fa84a126-a6b6-4562-8c81-de5ec191ae02"
      },
      "execution_count": 139,
      "outputs": [
        {
          "output_type": "stream",
          "name": "stdout",
          "text": [
            "1:08 AM (next day)\n",
            "6:10 PM\n",
            "2:02 PM, Monday\n",
            "12:03 PM\n",
            "1:40 AM (next day)\n",
            "12:03 AM, Thursday (2 days later)\n",
            "7:42 AM (9 days later)\n",
            "6:18 AM, Monday (20 days later)\n"
          ]
        }
      ]
    }
  ]
}