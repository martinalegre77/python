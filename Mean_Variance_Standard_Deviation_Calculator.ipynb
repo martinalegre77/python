{
  "nbformat": 4,
  "nbformat_minor": 0,
  "metadata": {
    "colab": {
      "provenance": [],
      "authorship_tag": "ABX9TyPr2lyeFZSCPL0HtIT4ImJJ",
      "include_colab_link": true
    },
    "kernelspec": {
      "name": "python3",
      "display_name": "Python 3"
    },
    "language_info": {
      "name": "python"
    }
  },
  "cells": [
    {
      "cell_type": "markdown",
      "metadata": {
        "id": "view-in-github",
        "colab_type": "text"
      },
      "source": [
        "<a href=\"https://colab.research.google.com/github/martinalegre77/python/blob/main/Mean_Variance_Standard_Deviation_Calculator.ipynb\" target=\"_parent\"><img src=\"https://colab.research.google.com/assets/colab-badge.svg\" alt=\"Open In Colab\"/></a>"
      ]
    },
    {
      "cell_type": "markdown",
      "source": [
        "# Calculadora de varianza, desviación media, y estándar"
      ],
      "metadata": {
        "id": "SqA47hDjI4Q5"
      }
    },
    {
      "cell_type": "markdown",
      "source": [
        "## mean_var_std.py"
      ],
      "metadata": {
        "id": "5TQwdR52I9-3"
      }
    },
    {
      "cell_type": "code",
      "execution_count": 11,
      "metadata": {
        "id": "o2cL7omiIm2H"
      },
      "outputs": [],
      "source": [
        "import numpy as np\n",
        "\n",
        "def calculate(list):\n",
        "  # convertir lista en array\n",
        "  try:\n",
        "    arr = np.array(list).reshape(3,3)\n",
        "  except ValueError:\n",
        "    return \"List must contain nine numbers.\"\n",
        "\n",
        "  calculations = dict()\n",
        "  # media\n",
        "  calculations['mean'] = [arr.mean(axis=0).tolist(),\n",
        "                          arr.mean(axis=1).tolist(),\n",
        "                          arr.mean()]\n",
        "  # varianza\n",
        "  calculations['variance'] = [arr.var(axis=0).tolist(),\n",
        "                              arr.var(axis=1).tolist(),\n",
        "                              arr.var()]\n",
        "  # desviación estandar\n",
        "  calculations['standard deviation'] = [arr.std(axis=0).tolist(),\n",
        "                                        arr.std(axis=1).tolist(),\n",
        "                                        arr.std()]\n",
        "  # valor máximo\n",
        "  calculations['max'] = [arr.max(axis=0).tolist(),\n",
        "                         arr.max(axis=1).tolist(),\n",
        "                         arr.max()]\n",
        "  # valor mínimo\n",
        "  calculations['min'] = [arr.min(axis=0).tolist(),\n",
        "                         arr.min(axis=1).tolist(),\n",
        "                         arr.min()]\n",
        "  # suma\n",
        "  calculations['sum'] = [arr.sum(axis=0).tolist(),\n",
        "                         arr.sum(axis=1).tolist(),\n",
        "                         arr.sum()]\n",
        "\n",
        "  # devuelve el diccionario completo\n",
        "  return calculations"
      ]
    },
    {
      "cell_type": "code",
      "source": [
        "calculate([0,1,2,3,4,5,6,7,8])"
      ],
      "metadata": {
        "colab": {
          "base_uri": "https://localhost:8080/"
        },
        "id": "U1D1xRcULW1H",
        "outputId": "d1262e68-8b33-4b9d-f183-d1e3c200786c"
      },
      "execution_count": 12,
      "outputs": [
        {
          "output_type": "execute_result",
          "data": {
            "text/plain": [
              "{'mean': [[3.0, 4.0, 5.0], [1.0, 4.0, 7.0], 4.0],\n",
              " 'variance': [[6.0, 6.0, 6.0],\n",
              "  [0.6666666666666666, 0.6666666666666666, 0.6666666666666666],\n",
              "  6.666666666666667],\n",
              " 'standard deviation': [[2.449489742783178,\n",
              "   2.449489742783178,\n",
              "   2.449489742783178],\n",
              "  [0.816496580927726, 0.816496580927726, 0.816496580927726],\n",
              "  2.581988897471611],\n",
              " 'max': [[6, 7, 8], [2, 5, 8], 8],\n",
              " 'min': [[0, 1, 2], [0, 3, 6], 0],\n",
              " 'sum': [[9, 12, 15], [3, 12, 21], 36]}"
            ]
          },
          "metadata": {},
          "execution_count": 12
        }
      ]
    },
    {
      "cell_type": "code",
      "source": [
        "calculate([9,1,5,3,3,3,2,9,0])"
      ],
      "metadata": {
        "colab": {
          "base_uri": "https://localhost:8080/"
        },
        "id": "zz-JfhFyQCVu",
        "outputId": "432b9517-519d-4b0b-b785-4442c3adee90"
      },
      "execution_count": 14,
      "outputs": [
        {
          "output_type": "execute_result",
          "data": {
            "text/plain": [
              "{'mean': [[4.666666666666667, 4.333333333333333, 2.6666666666666665],\n",
              "  [5.0, 3.0, 3.6666666666666665],\n",
              "  3.888888888888889],\n",
              " 'variance': [[9.555555555555555, 11.555555555555557, 4.222222222222222],\n",
              "  [10.666666666666666, 0.0, 14.888888888888891],\n",
              "  9.209876543209875],\n",
              " 'standard deviation': [[3.0912061651652345,\n",
              "   3.39934634239519,\n",
              "   2.0548046676563256],\n",
              "  [3.265986323710904, 0.0, 3.8586123009300755],\n",
              "  3.0347778408328137],\n",
              " 'max': [[9, 9, 5], [9, 3, 9], 9],\n",
              " 'min': [[2, 1, 0], [1, 3, 0], 0],\n",
              " 'sum': [[14, 13, 8], [15, 9, 11], 35]}"
            ]
          },
          "metadata": {},
          "execution_count": 14
        }
      ]
    },
    {
      "cell_type": "code",
      "source": [
        "calculate([0,1,2,3,4,5,6,7,8])"
      ],
      "metadata": {
        "colab": {
          "base_uri": "https://localhost:8080/"
        },
        "id": "s2wMZJIITg_g",
        "outputId": "c0b53d8a-71e2-4ee6-a197-0556e2ca8c44"
      },
      "execution_count": 18,
      "outputs": [
        {
          "output_type": "execute_result",
          "data": {
            "text/plain": [
              "{'mean': [[3.0, 4.0, 5.0], [1.0, 4.0, 7.0], 4.0],\n",
              " 'variance': [[6.0, 6.0, 6.0],\n",
              "  [0.6666666666666666, 0.6666666666666666, 0.6666666666666666],\n",
              "  6.666666666666667],\n",
              " 'standard deviation': [[2.449489742783178,\n",
              "   2.449489742783178,\n",
              "   2.449489742783178],\n",
              "  [0.816496580927726, 0.816496580927726, 0.816496580927726],\n",
              "  2.581988897471611],\n",
              " 'max': [[6, 7, 8], [2, 5, 8], 8],\n",
              " 'min': [[0, 1, 2], [0, 3, 6], 0],\n",
              " 'sum': [[9, 12, 15], [3, 12, 21], 36]}"
            ]
          },
          "metadata": {},
          "execution_count": 18
        }
      ]
    },
    {
      "cell_type": "markdown",
      "source": [
        "## main.py"
      ],
      "metadata": {
        "id": "4amixyi-JLlg"
      }
    },
    {
      "cell_type": "code",
      "source": [
        "# This entrypoint file to be used in development. Start by reading README.md\n",
        "import mean_var_std\n",
        "from unittest import main\n",
        "\n",
        "print(mean_var_std.calculate([0,1,2,3,4,5,6,7,8]))\n",
        "\n",
        "# Run unit tests automatically\n",
        "main(module='test_module', exit=False)"
      ],
      "metadata": {
        "id": "eBlkTabpJMBn"
      },
      "execution_count": null,
      "outputs": []
    },
    {
      "cell_type": "markdown",
      "source": [
        "## test_module.py"
      ],
      "metadata": {
        "id": "aP0PfWnXJT1w"
      }
    },
    {
      "cell_type": "code",
      "source": [
        "import unittest\n",
        "import mean_var_std\n",
        "\n",
        "\n",
        "# the test case\n",
        "class UnitTests(unittest.TestCase):\n",
        "    def test_calculate(self):\n",
        "        actual = mean_var_std.calculate([2,6,2,8,4,0,1,5,7])\n",
        "        expected = {'mean': [[3.6666666666666665, 5.0, 3.0], [3.3333333333333335, 4.0, 4.333333333333333], 3.888888888888889], 'variance': [[9.555555555555557, 0.6666666666666666, 8.666666666666666], [3.555555555555556, 10.666666666666666, 6.222222222222221], 6.987654320987654], 'standard deviation': [[3.091206165165235, 0.816496580927726, 2.943920288775949], [1.8856180831641267, 3.265986323710904, 2.494438257849294], 2.6434171674156266], 'max': [[8, 6, 7], [6, 8, 7], 8], 'min': [[1, 4, 0], [2, 0, 1], 0], 'sum': [[11, 15, 9], [10, 12, 13], 35]}\n",
        "        self.assertAlmostEqual(actual, expected, \"Expected different output when calling 'calculate()' with '[2,6,2,8,4,0,1,5,7]'\")\n",
        "\n",
        "    def test_calculate2(self):\n",
        "        actual = mean_var_std.calculate([9,1,5,3,3,3,2,9,0])\n",
        "        expected = {'mean': [[4.666666666666667, 4.333333333333333, 2.6666666666666665], [5.0, 3.0, 3.6666666666666665], 3.888888888888889], 'variance': [[9.555555555555555, 11.555555555555557, 4.222222222222222], [10.666666666666666, 0.0, 14.888888888888891], 9.209876543209875], 'standard deviation': [[3.0912061651652345, 3.39934634239519, 2.0548046676563256], [3.265986323710904, 0.0, 3.8586123009300755], 3.0347778408328137], 'max': [[9, 9, 5], [9, 3, 9], 9], 'min': [[2, 1, 0], [1, 3, 0], 0], 'sum': [[14, 13, 8], [15, 9, 11], 35]}\n",
        "        self.assertAlmostEqual(actual, expected, \"Expected different output when calling 'calculate()' with '[9,1,5,3,3,3,2,9,0]'\")\n",
        "\n",
        "    def test_calculate_with_few_digits(self):\n",
        "        self.assertRaisesRegex(ValueError, \"List must contain nine numbers.\", mean_var_std.calculate, [2,6,2,8,4,0,1,])\n",
        "\n",
        "if __name__ == \"__main__\":\n",
        "    unittest.main()"
      ],
      "metadata": {
        "id": "TPz6i43NJVy-"
      },
      "execution_count": null,
      "outputs": []
    },
    {
      "cell_type": "code",
      "source": [
        "# Pruebas\n",
        "\n",
        "a = {'mean': [[4.666666666666667, 4.333333333333333, 2.6666666666666665],\n",
        "  [5.0, 3.0, 3.6666666666666665],\n",
        "  3.888888888888889],\n",
        " 'variance': [[9.555555555555555, 11.555555555555557, 4.222222222222222],\n",
        "  [10.666666666666666, 0.0, 14.888888888888891],\n",
        "  9.209876543209875],\n",
        " 'standard deviation': [[3.0912061651652345,\n",
        "   3.39934634239519,\n",
        "   2.0548046676563256],\n",
        "  [3.265986323710904, 0.0, 3.8586123009300755],\n",
        "  3.0347778408328137],\n",
        " 'max': [[9, 9, 5], [9, 3, 9], 9],\n",
        " 'min': [[2, 1, 0], [1, 3, 0], 0],\n",
        " 'sum': [[14, 13, 8], [15, 9, 11], 35]}\n",
        "\n",
        "b = {'mean': [[4.666666666666667, 4.333333333333333, 2.6666666666666665],\n",
        "  [5.0, 3.0, 3.6666666666666665], 3.888888888888889],\n",
        "      'variance': [[9.555555555555555, 11.555555555555557, 4.222222222222222],\n",
        "       [10.666666666666666, 0.0, 14.888888888888891], 9.209876543209875],\n",
        "      'standard deviation': [[3.0912061651652345,\n",
        "                              3.39934634239519,\n",
        "                              2.0548046676563256],\n",
        "                               [3.265986323710904, 0.0, 3.8586123009300755],\n",
        "                             3.0347778408328137],\n",
        "      'max': [[9, 9, 5], [9, 3, 9], 9],\n",
        "      'min': [[2, 1, 0], [1, 3, 0], 0],\n",
        "      'sum': [[14, 13, 8], [15, 9, 11], 35]}\n",
        "\n",
        "print(a==b)"
      ],
      "metadata": {
        "colab": {
          "base_uri": "https://localhost:8080/"
        },
        "id": "8TFdI_-KPSrm",
        "outputId": "61dd1d87-1609-42ba-f473-4967ee9507ca"
      },
      "execution_count": 17,
      "outputs": [
        {
          "output_type": "stream",
          "name": "stdout",
          "text": [
            "True\n"
          ]
        }
      ]
    }
  ]
}